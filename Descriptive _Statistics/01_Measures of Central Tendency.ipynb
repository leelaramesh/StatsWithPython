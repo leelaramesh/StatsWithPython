{
 "cells": [
  {
   "cell_type": "markdown",
   "id": "a019a277",
   "metadata": {},
   "source": [
    "## What is Central Tendency?\n",
    "\n",
    "   Imagine there is a bunch of numbers, like the ages of people in a group. Now, think of central tendency as a way to find a \"typical\" or \"middle\" age that represents the group. There are three main measures of central tendency: mean, median, and mode.\n",
    "\n",
    "- **Mean:** If you calculate the mean (average) age, it's like saying, \"On average, people in this group are around this age.\"\n",
    "\n",
    "- **Median:** If you find the median age, it's like saying, \"Half of the people in this group are younger than this age, and half are older.\"\n",
    "\n",
    "- **Mode:** If you find the mode, it's like saying, \"The most common age in this group is this.\"\n",
    "\n",
    "So, central tendency is a way to give you a single number that sort of represents where most of the data is centered. It's like finding the \"middle\" in different ways, depending on whether you're looking at averages, the middle point, or the most common value."
   ]
  },
  {
   "cell_type": "markdown",
   "id": "b4440402",
   "metadata": {},
   "source": [
    "## Mean\n",
    "\n",
    "   - The mean is the average of all values in a dataset.\n",
    "   - It is calculated by adding up all the values and dividing by the number of values.\n",
    "   - The mean is sensitive to extreme values and can be influenced by outliers(extreme values)."
   ]
  },
  {
   "cell_type": "code",
   "execution_count": 1,
   "id": "d9d0a64b",
   "metadata": {},
   "outputs": [
    {
     "name": "stdout",
     "output_type": "stream",
     "text": [
      "Mean using statistics module: 15.4\n",
      "Mean using numpy: 15.4\n"
     ]
    }
   ],
   "source": [
    "# In Python, mean can be calculated using the 'statistics' module or using the 'numpy' library for numerical operations.\n",
    "\n",
    "# Using statistics module\n",
    "import statistics\n",
    "\n",
    "data = [12, 14, 15, 17, 19]\n",
    "\n",
    "mean_value = statistics.mean(data)\n",
    "print(\"Mean using statistics module:\", mean_value)\n",
    "\n",
    "# Using numpy\n",
    "import numpy as np\n",
    "\n",
    "mean_np = np.mean(data)\n",
    "print(\"Mean using numpy:\", mean_np)"
   ]
  },
  {
   "cell_type": "markdown",
   "id": "93f548f6",
   "metadata": {},
   "source": [
    "### When the data contains missing values (represented by 'NA'), numpy library provides the numpy.nanmean() function. This function calculates the mean while ignoring the missing values."
   ]
  },
  {
   "cell_type": "code",
   "execution_count": 2,
   "id": "0924337b",
   "metadata": {},
   "outputs": [
    {
     "name": "stdout",
     "output_type": "stream",
     "text": [
      "data: [2, 4, nan, 5, 6]\n",
      "Mean with NA: 4.25\n"
     ]
    }
   ],
   "source": [
    "import numpy as np\n",
    "\n",
    "data = [2, 4, np.nan, 5, 6]\n",
    "print(\"data:\",data)\n",
    "\n",
    "mean_value = np.nanmean(data)\n",
    "print(\"Mean with NA:\", mean_value)"
   ]
  },
  {
   "cell_type": "markdown",
   "id": "e5745e2f",
   "metadata": {},
   "source": [
    "This function only works when the missing values represented by 'np.nan'. If you have other representations for missing values, you may need to preprocess the data accordingly before calculating the mean."
   ]
  },
  {
   "cell_type": "markdown",
   "id": "25848fb9",
   "metadata": {},
   "source": [
    "## Median\n",
    "   - The median is the middle value when the data is sorted in ascending or descending order.\n",
    "   - If there is an even number of observations, the median is the average of the two middle values.\n",
    "   - The median is less affected by extreme values than the mean, making it a more robust measure in the presence of outliers."
   ]
  },
  {
   "cell_type": "code",
   "execution_count": 3,
   "id": "d28c4d14",
   "metadata": {},
   "outputs": [
    {
     "name": "stdout",
     "output_type": "stream",
     "text": [
      "Median using statistics module: 15\n"
     ]
    }
   ],
   "source": [
    "# Median calculation is similar to calculating the mean\n",
    "\n",
    "# Using statistics module\n",
    "import statistics\n",
    "\n",
    "data = [12, 14, 15, 17, 19]\n",
    "\n",
    "median_value = statistics.median(data)\n",
    "print(\"Median using statistics module:\", median_value)"
   ]
  },
  {
   "cell_type": "code",
   "execution_count": 4,
   "id": "9acb48d3",
   "metadata": {},
   "outputs": [
    {
     "name": "stdout",
     "output_type": "stream",
     "text": [
      "Data: [24 22 22 17 18 29 23 18 29 25]\n",
      "Median of data: 22.5\n"
     ]
    }
   ],
   "source": [
    "# Using numpy\n",
    "import numpy as np\n",
    "\n",
    "data = np.random.randint(11,30,10)\n",
    "print(\"Data:\", data)\n",
    "\n",
    "median_np = np.median(data)\n",
    "print(\"Median of data:\", median_np)"
   ]
  },
  {
   "cell_type": "markdown",
   "id": "de2f2033",
   "metadata": {},
   "source": [
    "Similar to calculating the mean, when dealing with missing values (represented by 'NA'), you can use the 'numpy' library, specifically the 'numpy.nanmedian()' function. This function calculates the median while ignoring the missing values.\n",
    "\n"
   ]
  },
  {
   "cell_type": "markdown",
   "id": "f6ce22fb",
   "metadata": {},
   "source": [
    "## Mode\n",
    "   - The mode is the value that occurs most frequently in a dataset.\n",
    "   - A dataset may have no mode, one mode (unimodal), or multiple modes (multimodal).\n",
    "   - Unlike mean and median, the mode can be applied to categorical data as well."
   ]
  },
  {
   "cell_type": "code",
   "execution_count": 5,
   "id": "f1e36ff4",
   "metadata": {},
   "outputs": [
    {
     "name": "stdout",
     "output_type": "stream",
     "text": [
      "Mode: 4\n"
     ]
    }
   ],
   "source": [
    "# Using the statistics Module\n",
    "\n",
    "from statistics import mode\n",
    "\n",
    "my_list = [2, 4, 3, 5, 4, 6, 4, 7]\n",
    "\n",
    "most_common = mode(my_list)\n",
    "print(\"Mode:\",most_common)"
   ]
  },
  {
   "cell_type": "code",
   "execution_count": 6,
   "id": "ecb4b322",
   "metadata": {},
   "outputs": [
    {
     "data": {
      "text/plain": [
       "'red'"
      ]
     },
     "execution_count": 6,
     "metadata": {},
     "output_type": "execute_result"
    }
   ],
   "source": [
    "# Finding mode of list contains categorical data\n",
    "\n",
    "mode([\"red\", \"blue\", \"blue\", \"red\", \"green\", \"red\", \"red\"])"
   ]
  },
  {
   "cell_type": "markdown",
   "id": "547143f4",
   "metadata": {},
   "source": [
    "### Handling Multiple Modes:\n",
    "\n",
    "In 'statistics' module 'multimode()' function return a list of the most frequently occurring values in the order they were first encountered in the data. Will return more than one result if there are multiple modes or an empty list if the data is empty"
   ]
  },
  {
   "cell_type": "code",
   "execution_count": 7,
   "id": "fc31048f",
   "metadata": {},
   "outputs": [
    {
     "name": "stdout",
     "output_type": "stream",
     "text": [
      "Modes: [6, 4]\n"
     ]
    }
   ],
   "source": [
    "from statistics import multimode\n",
    "\n",
    "data = (2, 6, 4, 3, 4, 6, 5, 4, 6, 4, 7, 6)\n",
    "\n",
    "modes = multimode(data)\n",
    "print(\"Modes:\", modes)"
   ]
  },
  {
   "cell_type": "code",
   "execution_count": 8,
   "id": "9a620b32",
   "metadata": {},
   "outputs": [
    {
     "data": {
      "text/plain": [
       "[]"
      ]
     },
     "execution_count": 8,
     "metadata": {},
     "output_type": "execute_result"
    }
   ],
   "source": [
    "# Empty data\n",
    "multimode('')"
   ]
  },
  {
   "cell_type": "markdown",
   "id": "b1d85ad1",
   "metadata": {},
   "source": [
    "### Finding Mean, Median and Mode using Pandas Module"
   ]
  },
  {
   "cell_type": "code",
   "execution_count": 9,
   "id": "c1988604",
   "metadata": {},
   "outputs": [
    {
     "data": {
      "text/html": [
       "<div>\n",
       "<style scoped>\n",
       "    .dataframe tbody tr th:only-of-type {\n",
       "        vertical-align: middle;\n",
       "    }\n",
       "\n",
       "    .dataframe tbody tr th {\n",
       "        vertical-align: top;\n",
       "    }\n",
       "\n",
       "    .dataframe thead th {\n",
       "        text-align: right;\n",
       "    }\n",
       "</style>\n",
       "<table border=\"1\" class=\"dataframe\">\n",
       "  <thead>\n",
       "    <tr style=\"text-align: right;\">\n",
       "      <th></th>\n",
       "      <th>player</th>\n",
       "      <th>game1</th>\n",
       "      <th>game2</th>\n",
       "      <th>game3</th>\n",
       "    </tr>\n",
       "  </thead>\n",
       "  <tbody>\n",
       "    <tr>\n",
       "      <th>0</th>\n",
       "      <td>A</td>\n",
       "      <td>18</td>\n",
       "      <td>5</td>\n",
       "      <td>11</td>\n",
       "    </tr>\n",
       "    <tr>\n",
       "      <th>1</th>\n",
       "      <td>B</td>\n",
       "      <td>22</td>\n",
       "      <td>7</td>\n",
       "      <td>8</td>\n",
       "    </tr>\n",
       "    <tr>\n",
       "      <th>2</th>\n",
       "      <td>C</td>\n",
       "      <td>19</td>\n",
       "      <td>7</td>\n",
       "      <td>10</td>\n",
       "    </tr>\n",
       "    <tr>\n",
       "      <th>3</th>\n",
       "      <td>D</td>\n",
       "      <td>14</td>\n",
       "      <td>9</td>\n",
       "      <td>6</td>\n",
       "    </tr>\n",
       "    <tr>\n",
       "      <th>4</th>\n",
       "      <td>E</td>\n",
       "      <td>14</td>\n",
       "      <td>12</td>\n",
       "      <td>6</td>\n",
       "    </tr>\n",
       "    <tr>\n",
       "      <th>5</th>\n",
       "      <td>F</td>\n",
       "      <td>11</td>\n",
       "      <td>9</td>\n",
       "      <td>5</td>\n",
       "    </tr>\n",
       "    <tr>\n",
       "      <th>6</th>\n",
       "      <td>G</td>\n",
       "      <td>20</td>\n",
       "      <td>9</td>\n",
       "      <td>9</td>\n",
       "    </tr>\n",
       "    <tr>\n",
       "      <th>7</th>\n",
       "      <td>H</td>\n",
       "      <td>28</td>\n",
       "      <td>4</td>\n",
       "      <td>12</td>\n",
       "    </tr>\n",
       "  </tbody>\n",
       "</table>\n",
       "</div>"
      ],
      "text/plain": [
       "  player  game1  game2  game3\n",
       "0      A     18      5     11\n",
       "1      B     22      7      8\n",
       "2      C     19      7     10\n",
       "3      D     14      9      6\n",
       "4      E     14     12      6\n",
       "5      F     11      9      5\n",
       "6      G     20      9      9\n",
       "7      H     28      4     12"
      ]
     },
     "execution_count": 9,
     "metadata": {},
     "output_type": "execute_result"
    }
   ],
   "source": [
    "# Import Pandas Library\n",
    "import pandas as pd\n",
    "\n",
    "# Lets create a DataFrame\n",
    "\n",
    "df = pd.DataFrame({'player': ['A', 'B', 'C', 'D', 'E', 'F', 'G', 'H'],\n",
    "                   'game1': [18, 22, 19, 14, 14, 11, 20, 28],\n",
    "                   'game2': [5, 7, 7, 9, 12, 9, 9, 4],\n",
    "                   'game3': [11, 8, 10, 6, 6, 5, 9, 12]})\n",
    "df"
   ]
  },
  {
   "cell_type": "code",
   "execution_count": 10,
   "id": "d8aee661",
   "metadata": {},
   "outputs": [
    {
     "data": {
      "text/plain": [
       "game1    18.250\n",
       "game2     7.750\n",
       "game3     8.375\n",
       "dtype: float64"
      ]
     },
     "execution_count": 10,
     "metadata": {},
     "output_type": "execute_result"
    }
   ],
   "source": [
    "# Mean across columns\n",
    "df.mean(numeric_only=True)"
   ]
  },
  {
   "cell_type": "code",
   "execution_count": 11,
   "id": "b9ed37d8",
   "metadata": {},
   "outputs": [
    {
     "data": {
      "text/plain": [
       "0    11.333333\n",
       "1    12.333333\n",
       "2    12.000000\n",
       "3     9.666667\n",
       "4    10.666667\n",
       "5     8.333333\n",
       "6    12.666667\n",
       "7    14.666667\n",
       "dtype: float64"
      ]
     },
     "execution_count": 11,
     "metadata": {},
     "output_type": "execute_result"
    }
   ],
   "source": [
    "# Mean across Rows\n",
    "df.mean(axis=1, numeric_only=True)"
   ]
  },
  {
   "cell_type": "code",
   "execution_count": 12,
   "id": "7c97c4ad",
   "metadata": {},
   "outputs": [
    {
     "data": {
      "text/plain": [
       "18.25"
      ]
     },
     "execution_count": 12,
     "metadata": {},
     "output_type": "execute_result"
    }
   ],
   "source": [
    "# Mean of a series in the DataFrame\n",
    "df['game1'].mean()"
   ]
  },
  {
   "cell_type": "code",
   "execution_count": 13,
   "id": "74727471",
   "metadata": {},
   "outputs": [
    {
     "data": {
      "text/plain": [
       "game1    18.5\n",
       "game2     8.0\n",
       "game3     8.5\n",
       "dtype: float64"
      ]
     },
     "execution_count": 13,
     "metadata": {},
     "output_type": "execute_result"
    }
   ],
   "source": [
    "# Median\n",
    "df.median(numeric_only=True)"
   ]
  },
  {
   "cell_type": "code",
   "execution_count": 14,
   "id": "cdfe2e84",
   "metadata": {},
   "outputs": [
    {
     "data": {
      "text/plain": [
       "18.5"
      ]
     },
     "execution_count": 14,
     "metadata": {},
     "output_type": "execute_result"
    }
   ],
   "source": [
    "df['game1'].median()"
   ]
  },
  {
   "cell_type": "code",
   "execution_count": 15,
   "id": "a39eb007",
   "metadata": {},
   "outputs": [
    {
     "data": {
      "text/html": [
       "<div>\n",
       "<style scoped>\n",
       "    .dataframe tbody tr th:only-of-type {\n",
       "        vertical-align: middle;\n",
       "    }\n",
       "\n",
       "    .dataframe tbody tr th {\n",
       "        vertical-align: top;\n",
       "    }\n",
       "\n",
       "    .dataframe thead th {\n",
       "        text-align: right;\n",
       "    }\n",
       "</style>\n",
       "<table border=\"1\" class=\"dataframe\">\n",
       "  <thead>\n",
       "    <tr style=\"text-align: right;\">\n",
       "      <th></th>\n",
       "      <th>game1</th>\n",
       "      <th>game2</th>\n",
       "      <th>game3</th>\n",
       "    </tr>\n",
       "  </thead>\n",
       "  <tbody>\n",
       "    <tr>\n",
       "      <th>0</th>\n",
       "      <td>14</td>\n",
       "      <td>9</td>\n",
       "      <td>6</td>\n",
       "    </tr>\n",
       "  </tbody>\n",
       "</table>\n",
       "</div>"
      ],
      "text/plain": [
       "   game1  game2  game3\n",
       "0     14      9      6"
      ]
     },
     "execution_count": 15,
     "metadata": {},
     "output_type": "execute_result"
    }
   ],
   "source": [
    "# Mode\n",
    "df.mode(numeric_only=True)"
   ]
  },
  {
   "cell_type": "code",
   "execution_count": 16,
   "id": "513e435f",
   "metadata": {},
   "outputs": [
    {
     "data": {
      "text/plain": [
       "0    9\n",
       "Name: game2, dtype: int64"
      ]
     },
     "execution_count": 16,
     "metadata": {},
     "output_type": "execute_result"
    }
   ],
   "source": [
    "df['game2'].mode()"
   ]
  },
  {
   "cell_type": "markdown",
   "id": "cb739179",
   "metadata": {},
   "source": [
    "### Finding Mean, Median, Mode in Python without libraries"
   ]
  },
  {
   "cell_type": "code",
   "execution_count": 17,
   "id": "440e9ad9",
   "metadata": {},
   "outputs": [
    {
     "data": {
      "text/plain": [
       "[12, 14, 13, 15, 14, 16, 16, 17]"
      ]
     },
     "execution_count": 17,
     "metadata": {},
     "output_type": "execute_result"
    }
   ],
   "source": [
    "# Define the dataset\n",
    "data = [12, 14, 13, 15, 14, 16, 16, 17]\n",
    "data"
   ]
  },
  {
   "cell_type": "code",
   "execution_count": 18,
   "id": "72afd277",
   "metadata": {},
   "outputs": [
    {
     "name": "stdout",
     "output_type": "stream",
     "text": [
      "Mean: 14.625\n"
     ]
    }
   ],
   "source": [
    "# Calculate Mean\n",
    "\n",
    "mean_value = sum(data) / len(data)\n",
    "print(\"Mean:\", mean_value)"
   ]
  },
  {
   "cell_type": "code",
   "execution_count": 19,
   "id": "2e52f90f",
   "metadata": {},
   "outputs": [
    {
     "name": "stdout",
     "output_type": "stream",
     "text": [
      "Median: 14.5\n"
     ]
    }
   ],
   "source": [
    "# Calculate Median\n",
    "\n",
    "sorted_data = sorted(data)\n",
    "n = len(sorted_data)\n",
    "\n",
    "if n % 2 == 0:\n",
    "    median_value = (sorted_data[n // 2 - 1] + sorted_data[n // 2]) / 2\n",
    "else:\n",
    "    median_value = sorted_data[n // 2]\n",
    "    \n",
    "print(\"Median:\", median_value)\n"
   ]
  },
  {
   "cell_type": "code",
   "execution_count": 20,
   "id": "22ea52d7",
   "metadata": {},
   "outputs": [
    {
     "name": "stdout",
     "output_type": "stream",
     "text": [
      "Mode: [14, 16]\n"
     ]
    }
   ],
   "source": [
    "# Calculate Mode\n",
    "\n",
    "counts = {}\n",
    "for value in data:\n",
    "    counts[value] = counts.get(value, 0) + 1\n",
    "\n",
    "max_count = max(counts.values())\n",
    "modes = [key for key, value in counts.items() if value == max_count]\n",
    "\n",
    "print(\"Mode:\", modes)\n"
   ]
  },
  {
   "cell_type": "code",
   "execution_count": null,
   "id": "c173a40b",
   "metadata": {},
   "outputs": [],
   "source": []
  }
 ],
 "metadata": {
  "kernelspec": {
   "display_name": "Python 3 (ipykernel)",
   "language": "python",
   "name": "python3"
  },
  "language_info": {
   "codemirror_mode": {
    "name": "ipython",
    "version": 3
   },
   "file_extension": ".py",
   "mimetype": "text/x-python",
   "name": "python",
   "nbconvert_exporter": "python",
   "pygments_lexer": "ipython3",
   "version": "3.9.12"
  }
 },
 "nbformat": 4,
 "nbformat_minor": 5
}
